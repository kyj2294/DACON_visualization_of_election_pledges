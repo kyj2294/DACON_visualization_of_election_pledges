{
 "cells": [
  {
   "cell_type": "code",
   "execution_count": 183,
   "id": "b1232a94",
   "metadata": {},
   "outputs": [],
   "source": [
    "from selenium import webdriver\n",
    "import time\n",
    "from selenium.webdriver.common.keys import Keys"
   ]
  },
  {
   "cell_type": "code",
   "execution_count": 184,
   "id": "4b8b1d40",
   "metadata": {},
   "outputs": [],
   "source": [
    "# url = 'https://www.dploor.com/election/20/president'\n",
    "\n",
    "# driver = webdriver.Chrome('/opt/homebrew/bin/chromeDriver')\n",
    "# driver.get(url)\n",
    "# time.sleep(2)"
   ]
  },
  {
   "cell_type": "code",
   "execution_count": 185,
   "id": "9d3415a1",
   "metadata": {},
   "outputs": [],
   "source": [
    "name_list = []\n",
    "for i in range(1, 15):\n",
    "    name_list.append(f'기호 {i}번')\n",
    "    \n",
    "for i in range(1, 15):\n",
    "    globals()[f'list_{i}'] = []\n"
   ]
  },
  {
   "cell_type": "code",
   "execution_count": 202,
   "id": "fbb90009",
   "metadata": {},
   "outputs": [
    {
     "name": "stderr",
     "output_type": "stream",
     "text": [
      "C:\\Users\\bany9\\AppData\\Local\\Temp/ipykernel_19096/3507801201.py:2: DeprecationWarning: executable_path has been deprecated, please pass in a Service object\n",
      "  driver = webdriver.Chrome('C:/chrome_driver/chromedriver.exe')\n"
     ]
    }
   ],
   "source": [
    "url = 'https://www.dploor.com/election/20/president'\n",
    "driver = webdriver.Chrome('C:/chrome_driver/chromedriver.exe')\n",
    "\n",
    "def chrome_get_1(k, l):\n",
    "\n",
    "    driver.get(url)\n",
    "    #time.sleep(4)\n",
    "    #element = driver.find_element_by_xpath('')\n",
    "    driver.find_element_by_xpath('//*[@id=\"__next\"]/div[2]/div/main/div[2]/div[2]/div/div/div/div/button')\n",
    "    #element.send_keys(add)\n",
    "    #time.sleep(0.05)\n",
    "    #clk.click()\n",
    "    time.sleep(0.01)\n",
    "    write = driver.find_element_by_xpath('//*[@id=\"mui-4\"]')\n",
    "    write.send_keys(k)\n",
    "    write.send_keys(Keys.ARROW_DOWN)\n",
    "    write.send_keys(Keys.RETURN);\n",
    "    \n",
    "    clk = driver.find_elements_by_xpath('//*[@id=\"__next\"]/div[2]/div/main/div[2]/div[2]/div/div/div/div/button[1]').clear\n",
    "    \n",
    "    time.sleep(0.1)\n",
    "    for i in range(1, 11):\n",
    "        time.sleep(0.5)\n",
    "        l.append(driver.find_element_by_xpath('//*[@id=\"__next\"]/div[2]/div/main/div[3]/div[{0}]/div[1]/div[1]/p'.format(i)).text)\n",
    "        time.sleep(0.5)\n",
    "\n",
    "\n",
    "def chrome_get_2(k, l):\n",
    "\n",
    "    driver.get(url)\n",
    "    #time.sleep(4)\n",
    "    #element = driver.find_element_by_xpath('')\n",
    "    driver.find_element_by_xpath('//*[@id=\"__next\"]/div[2]/div/main/div[2]/div[2]/div/div/div/div/button')\n",
    "    #element.send_keys(add)\n",
    "    #time.sleep(0.05)\n",
    "    #clk.click()\n",
    "    time.sleep(0.01)\n",
    "    write = driver.find_element_by_xpath('//*[@id=\"mui-4\"]')\n",
    "    write.send_keys(k)\n",
    "    write.send_keys(Keys.ARROW_DOWN)\n",
    "    write.send_keys(Keys.RETURN);\n",
    "    \n",
    "    clk = driver.find_elements_by_xpath('//*[@id=\"__next\"]/div[2]/div/main/div[2]/div[2]/div/div/div/div/button[1]').clear\n",
    "    \n",
    "    time.sleep(0.7)\n",
    "    for i in range(1, 11):\n",
    "        #time.sleep(0.5)\n",
    "        l.append(driver.find_element_by_xpath('//*[@id=\"__next\"]/div[2]/div/main/div[4]/div[{0}]/div[1]/div[1]/p'.format(i)).text)\n",
    "        #time.sleep(0.5)\n",
    "\n"
   ]
  },
  {
   "cell_type": "code",
   "execution_count": 203,
   "id": "2b49f15a",
   "metadata": {},
   "outputs": [
    {
     "name": "stderr",
     "output_type": "stream",
     "text": [
      "C:\\Users\\bany9\\AppData\\Local\\Temp/ipykernel_19096/3507801201.py:9: DeprecationWarning: find_element_by_xpath is deprecated. Please use find_element(by=By.XPATH, value=xpath) instead\n",
      "  driver.find_element_by_xpath('//*[@id=\"__next\"]/div[2]/div/main/div[2]/div[2]/div/div/div/div/button')\n",
      "C:\\Users\\bany9\\AppData\\Local\\Temp/ipykernel_19096/3507801201.py:14: DeprecationWarning: find_element_by_xpath is deprecated. Please use find_element(by=By.XPATH, value=xpath) instead\n",
      "  write = driver.find_element_by_xpath('//*[@id=\"mui-4\"]')\n",
      "C:\\Users\\bany9\\AppData\\Local\\Temp/ipykernel_19096/3507801201.py:19: DeprecationWarning: find_elements_by_xpath is deprecated. Please use find_elements(by=By.XPATH, value=xpath) instead\n",
      "  clk = driver.find_elements_by_xpath('//*[@id=\"__next\"]/div[2]/div/main/div[2]/div[2]/div/div/div/div/button[1]').clear\n",
      "C:\\Users\\bany9\\AppData\\Local\\Temp/ipykernel_19096/3507801201.py:24: DeprecationWarning: find_element_by_xpath is deprecated. Please use find_element(by=By.XPATH, value=xpath) instead\n",
      "  l.append(driver.find_element_by_xpath('//*[@id=\"__next\"]/div[2]/div/main/div[3]/div[{0}]/div[1]/div[1]/p'.format(i)).text)\n",
      "C:\\Users\\bany9\\AppData\\Local\\Temp/ipykernel_19096/3507801201.py:33: DeprecationWarning: find_element_by_xpath is deprecated. Please use find_element(by=By.XPATH, value=xpath) instead\n",
      "  driver.find_element_by_xpath('//*[@id=\"__next\"]/div[2]/div/main/div[2]/div[2]/div/div/div/div/button')\n",
      "C:\\Users\\bany9\\AppData\\Local\\Temp/ipykernel_19096/3507801201.py:38: DeprecationWarning: find_element_by_xpath is deprecated. Please use find_element(by=By.XPATH, value=xpath) instead\n",
      "  write = driver.find_element_by_xpath('//*[@id=\"mui-4\"]')\n",
      "C:\\Users\\bany9\\AppData\\Local\\Temp/ipykernel_19096/3507801201.py:43: DeprecationWarning: find_elements_by_xpath is deprecated. Please use find_elements(by=By.XPATH, value=xpath) instead\n",
      "  clk = driver.find_elements_by_xpath('//*[@id=\"__next\"]/div[2]/div/main/div[2]/div[2]/div/div/div/div/button[1]').clear\n",
      "C:\\Users\\bany9\\AppData\\Local\\Temp/ipykernel_19096/3507801201.py:48: DeprecationWarning: find_element_by_xpath is deprecated. Please use find_element(by=By.XPATH, value=xpath) instead\n",
      "  l.append(driver.find_element_by_xpath('//*[@id=\"__next\"]/div[2]/div/main/div[4]/div[{0}]/div[1]/div[1]/p'.format(i)).text)\n"
     ]
    }
   ],
   "source": [
    "chrome_get_1(1, list_1)\n",
    "for i in range(2, 15):\n",
    "    chrome_get_2(i, globals()[f'list_{i}'])"
   ]
  },
  {
   "cell_type": "code",
   "execution_count": null,
   "id": "f6fcc9b1",
   "metadata": {},
   "outputs": [],
   "source": []
  }
 ],
 "metadata": {
  "kernelspec": {
   "display_name": "Python 3 (ipykernel)",
   "language": "python",
   "name": "python3"
  },
  "language_info": {
   "codemirror_mode": {
    "name": "ipython",
    "version": 3
   },
   "file_extension": ".py",
   "mimetype": "text/x-python",
   "name": "python",
   "nbconvert_exporter": "python",
   "pygments_lexer": "ipython3",
   "version": "3.8.12"
  }
 },
 "nbformat": 4,
 "nbformat_minor": 5
}
